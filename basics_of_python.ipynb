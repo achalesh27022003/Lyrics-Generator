{
  "nbformat": 4,
  "nbformat_minor": 0,
  "metadata": {
    "colab": {
      "name": "basics of python.ipynb",
      "provenance": [],
      "collapsed_sections": [],
      "authorship_tag": "ABX9TyOJfE1SAyekfwm95V1PHPD6",
      "include_colab_link": true
    },
    "kernelspec": {
      "name": "python3",
      "display_name": "Python 3"
    }
  },
  "cells": [
    {
      "cell_type": "markdown",
      "metadata": {
        "id": "view-in-github",
        "colab_type": "text"
      },
      "source": [
        "<a href=\"https://colab.research.google.com/github/achalesh27022003/Lyrics-Generator/blob/master/basics_of_python.ipynb\" target=\"_parent\"><img src=\"https://colab.research.google.com/assets/colab-badge.svg\" alt=\"Open In Colab\"/></a>"
      ]
    },
    {
      "cell_type": "code",
      "metadata": {
        "id": "007RPkO8VDP-",
        "colab_type": "code",
        "colab": {
          "base_uri": "https://localhost:8080/",
          "height": 34
        },
        "outputId": "dc6246fa-bd9d-4f31-b50c-c2d12dc5e735"
      },
      "source": [
        "print(\"Hello World\")"
      ],
      "execution_count": null,
      "outputs": [
        {
          "output_type": "stream",
          "text": [
            "Hello World\n"
          ],
          "name": "stdout"
        }
      ]
    },
    {
      "cell_type": "code",
      "metadata": {
        "id": "iEQjWTz2cefq",
        "colab_type": "code",
        "colab": {
          "base_uri": "https://localhost:8080/",
          "height": 34
        },
        "outputId": "c5a85253-1e07-451c-f5d8-cfd2211cc288"
      },
      "source": [
        "i=0\n",
        "while(i<=10):\n",
        "    print(i, end=\" \")\n",
        "    i = i+1"
      ],
      "execution_count": null,
      "outputs": [
        {
          "output_type": "stream",
          "text": [
            "0 1 2 3 4 5 6 7 8 9 10 "
          ],
          "name": "stdout"
        }
      ]
    },
    {
      "cell_type": "code",
      "metadata": {
        "id": "TDCvkhQLcnpI",
        "colab_type": "code",
        "colab": {
          "base_uri": "https://localhost:8080/",
          "height": 202
        },
        "outputId": "240ed4f8-971d-4723-8a82-324444752243"
      },
      "source": [
        "i=0\n",
        "while(i <=10):\n",
        "    print(i)\n",
        "    i = i+1\n"
      ],
      "execution_count": null,
      "outputs": [
        {
          "output_type": "stream",
          "text": [
            "0\n",
            "1\n",
            "2\n",
            "3\n",
            "4\n",
            "5\n",
            "6\n",
            "7\n",
            "8\n",
            "9\n",
            "10\n"
          ],
          "name": "stdout"
        }
      ]
    },
    {
      "cell_type": "code",
      "metadata": {
        "id": "r9aRXtkAdG11",
        "colab_type": "code",
        "colab": {
          "base_uri": "https://localhost:8080/",
          "height": 34
        },
        "outputId": "7fd2b5a6-cad2-463a-8026-2de39e7f7d42"
      },
      "source": [
        "for i in range(10,30,1):\n",
        "    print(i,end = \",\")\n"
      ],
      "execution_count": null,
      "outputs": [
        {
          "output_type": "stream",
          "text": [
            "10,11,12,13,14,15,16,17,18,19,20,21,22,23,24,25,26,27,28,29,"
          ],
          "name": "stdout"
        }
      ]
    },
    {
      "cell_type": "code",
      "metadata": {
        "id": "fYRau3q-d0xF",
        "colab_type": "code",
        "colab": {}
      },
      "source": [
        "#Data structures\n",
        "- List\n",
        "-Tuple\n",
        "-sets\n",
        "-Dictionary"
      ],
      "execution_count": null,
      "outputs": []
    },
    {
      "cell_type": "code",
      "metadata": {
        "id": "jmSOEg-UfsRC",
        "colab_type": "code",
        "colab": {
          "base_uri": "https://localhost:8080/",
          "height": 67
        },
        "outputId": "d0be8c79-4e11-4e41-e526-8d8a76090de4"
      },
      "source": [
        "s =  \"Hello Coding Blocks\"\n",
        "#negative indexing\n",
        "print(s[-1])\n",
        "#slicing\n",
        "#var[start_index:end_index+1]\n",
        "print(s[1:4])\n",
        "print(s[:])"
      ],
      "execution_count": null,
      "outputs": [
        {
          "output_type": "stream",
          "text": [
            "s\n",
            "ell\n",
            "Hello Coding Blocks\n"
          ],
          "name": "stdout"
        }
      ]
    },
    {
      "cell_type": "code",
      "metadata": {
        "id": "YAigF_vTiieY",
        "colab_type": "code",
        "colab": {
          "base_uri": "https://localhost:8080/",
          "height": 34
        },
        "outputId": "c0f88141-cb95-4186-98bd-eeff926aa0e3"
      },
      "source": [
        "print(s[0:13:2])"
      ],
      "execution_count": null,
      "outputs": [
        {
          "output_type": "stream",
          "text": [
            "HloCdn \n"
          ],
          "name": "stdout"
        }
      ]
    },
    {
      "cell_type": "code",
      "metadata": {
        "id": "0xMnj95_iyHf",
        "colab_type": "code",
        "colab": {
          "base_uri": "https://localhost:8080/",
          "height": 34
        },
        "outputId": "c5e47980-f3ad-4d0c-d223-7b0c58a0e3e3"
      },
      "source": [
        "#Heteregenous List\n",
        "li =[1,2,3.5,-8,\"Hello\",\"Python\",True,[3,4,5]]\n",
        "print(li) "
      ],
      "execution_count": null,
      "outputs": [
        {
          "output_type": "stream",
          "text": [
            "[1, 2, 3.5, -8, 'Hello', 'Python', True, [3, 4, 5]]\n"
          ],
          "name": "stdout"
        }
      ]
    },
    {
      "cell_type": "code",
      "metadata": {
        "id": "15w8Clq9jc-U",
        "colab_type": "code",
        "colab": {
          "base_uri": "https://localhost:8080/",
          "height": 34
        },
        "outputId": "1694be70-7db4-42a2-af3c-5785f84b4901"
      },
      "source": [
        "print(li[2:7])"
      ],
      "execution_count": null,
      "outputs": [
        {
          "output_type": "stream",
          "text": [
            "[3.5, -8, 'Hello', 'Python', True]\n"
          ],
          "name": "stdout"
        }
      ]
    },
    {
      "cell_type": "code",
      "metadata": {
        "id": "hUZzUOeYjrbh",
        "colab_type": "code",
        "colab": {
          "base_uri": "https://localhost:8080/",
          "height": 34
        },
        "outputId": "4a633610-7dbc-4eda-c4d9-fe1959cc335d"
      },
      "source": [
        "print(li[::-1])"
      ],
      "execution_count": null,
      "outputs": [
        {
          "output_type": "stream",
          "text": [
            "[[3, 4, 5], True, 'Python', 'Hello', -8, 3.5, 2, 1]\n"
          ],
          "name": "stdout"
        }
      ]
    },
    {
      "cell_type": "code",
      "metadata": {
        "id": "sDPQFDbvj7iD",
        "colab_type": "code",
        "colab": {
          "base_uri": "https://localhost:8080/",
          "height": 34
        },
        "outputId": "f2d249b5-875a-4663-95b1-5472f459dba4"
      },
      "source": [
        "print(li[::-2])"
      ],
      "execution_count": null,
      "outputs": [
        {
          "output_type": "stream",
          "text": [
            "[[3, 4, 5], 'Python', -8, 2]\n"
          ],
          "name": "stdout"
        }
      ]
    },
    {
      "cell_type": "code",
      "metadata": {
        "id": "P9undqKAkAgT",
        "colab_type": "code",
        "colab": {}
      },
      "source": [
        "li.append(\"Achalesh\")"
      ],
      "execution_count": null,
      "outputs": []
    },
    {
      "cell_type": "code",
      "metadata": {
        "id": "AvxGpVoHkaCb",
        "colab_type": "code",
        "colab": {
          "base_uri": "https://localhost:8080/",
          "height": 34
        },
        "outputId": "6944b9f3-88a8-4614-ef0e-56779a44b0d2"
      },
      "source": [
        "#we can't backtraverse , we just can go in front.\n",
        "li = [1,2,3,4]\n",
        "print(li[-1:-3])"
      ],
      "execution_count": 6,
      "outputs": [
        {
          "output_type": "stream",
          "text": [
            "[]\n"
          ],
          "name": "stdout"
        }
      ]
    },
    {
      "cell_type": "code",
      "metadata": {
        "id": "4SANLKU89ces",
        "colab_type": "code",
        "colab": {
          "base_uri": "https://localhost:8080/",
          "height": 34
        },
        "outputId": "949b1cc7-65cf-4795-8d07-05d3a0cb12f5"
      },
      "source": [
        "# like this will work\n",
        "li = [1,2,3,4]\n",
        "print(li[-3:-1])"
      ],
      "execution_count": 7,
      "outputs": [
        {
          "output_type": "stream",
          "text": [
            "[2, 3]\n"
          ],
          "name": "stdout"
        }
      ]
    },
    {
      "cell_type": "code",
      "metadata": {
        "id": "O_3XVWF19qKd",
        "colab_type": "code",
        "colab": {
          "base_uri": "https://localhost:8080/",
          "height": 34
        },
        "outputId": "b34842ed-0ff4-4ecf-c07c-89513d554f08"
      },
      "source": [
        "#for backtraversing we will use step sizing , by default it is 1. but in this case take it to be -1.\n",
        "li = [1,2,3,4]\n",
        "print(li[-1:-3:-1])\n"
      ],
      "execution_count": 8,
      "outputs": [
        {
          "output_type": "stream",
          "text": [
            "[4, 3]\n"
          ],
          "name": "stdout"
        }
      ]
    },
    {
      "cell_type": "code",
      "metadata": {
        "id": "fxmQ3ffL8QSE",
        "colab_type": "code",
        "colab": {}
      },
      "source": [
        ""
      ],
      "execution_count": 7,
      "outputs": []
    },
    {
      "cell_type": "code",
      "metadata": {
        "id": "KKAWLQNhkb5k",
        "colab_type": "code",
        "colab": {
          "base_uri": "https://localhost:8080/",
          "height": 34
        },
        "outputId": "7f931c3a-fb44-4e27-bbca-eeb0c9b8f1a3"
      },
      "source": [
        "#tuple is something like read-only list. Unlike list, in tuple you cannot change variable value. Elements are immutable.\n",
        "#Dictionary\n",
        "dic = {\n",
        "    \"samosa\":10,\n",
        "    \"burger\":20,\n",
        "    \"momos\":25,\n",
        "    \"pizza\":35\n",
        "}\n",
        "dic.values()"
      ],
      "execution_count": null,
      "outputs": [
        {
          "output_type": "execute_result",
          "data": {
            "text/plain": [
              "dict_values([10, 20, 25, 35])"
            ]
          },
          "metadata": {
            "tags": []
          },
          "execution_count": 20
        }
      ]
    },
    {
      "cell_type": "code",
      "metadata": {
        "id": "AvAaxZjkmg46",
        "colab_type": "code",
        "colab": {
          "base_uri": "https://localhost:8080/",
          "height": 34
        },
        "outputId": "4b4d1b4a-e195-4bd7-a911-b260402fd8be"
      },
      "source": [
        "dic.keys()"
      ],
      "execution_count": null,
      "outputs": [
        {
          "output_type": "execute_result",
          "data": {
            "text/plain": [
              "dict_keys(['samosa', 'burger', 'momos', 'pizza'])"
            ]
          },
          "metadata": {
            "tags": []
          },
          "execution_count": 21
        }
      ]
    },
    {
      "cell_type": "code",
      "metadata": {
        "id": "oBiRycwWmv0D",
        "colab_type": "code",
        "colab": {
          "base_uri": "https://localhost:8080/",
          "height": 34
        },
        "outputId": "f0e16151-3a4c-487c-9175-f15e116344f1"
      },
      "source": [
        "dic.items()"
      ],
      "execution_count": null,
      "outputs": [
        {
          "output_type": "execute_result",
          "data": {
            "text/plain": [
              "dict_items([('samosa', 10), ('burger', 20), ('momos', 25), ('pizza', 35)])"
            ]
          },
          "metadata": {
            "tags": []
          },
          "execution_count": 22
        }
      ]
    },
    {
      "cell_type": "code",
      "metadata": {
        "id": "UBIZaRg-my2D",
        "colab_type": "code",
        "colab": {
          "base_uri": "https://localhost:8080/",
          "height": 34
        },
        "outputId": "0d233c9c-0703-4d5f-dff8-d729bafcc1ab"
      },
      "source": [
        "dic[\"burger\"]"
      ],
      "execution_count": null,
      "outputs": [
        {
          "output_type": "execute_result",
          "data": {
            "text/plain": [
              "20"
            ]
          },
          "metadata": {
            "tags": []
          },
          "execution_count": 23
        }
      ]
    },
    {
      "cell_type": "code",
      "metadata": {
        "id": "MXlVGBvPm9_2",
        "colab_type": "code",
        "colab": {}
      },
      "source": [
        "#insering elements in dictionary\n",
        "dic[\"juice\"] = 15"
      ],
      "execution_count": null,
      "outputs": []
    },
    {
      "cell_type": "code",
      "metadata": {
        "id": "Zr5DKnDinLIL",
        "colab_type": "code",
        "colab": {}
      },
      "source": [
        "#do not get any error\n",
        "dic.get(\"icecream\")"
      ],
      "execution_count": null,
      "outputs": []
    },
    {
      "cell_type": "code",
      "metadata": {
        "id": "kN9TYUzAnl0z",
        "colab_type": "code",
        "colab": {}
      },
      "source": [
        "dic[\"fruits\"] = {\n",
        "    \"mango\":15,\n",
        "    \"banana\":90,\n",
        "    \"apple\":30\n",
        "}"
      ],
      "execution_count": null,
      "outputs": []
    },
    {
      "cell_type": "code",
      "metadata": {
        "id": "b7wjtT5YoAN6",
        "colab_type": "code",
        "colab": {
          "base_uri": "https://localhost:8080/",
          "height": 34
        },
        "outputId": "c81074d0-e26c-409a-a2b9-b00ab593dcc7"
      },
      "source": [
        "dic[\"fruits\"][\"apple\"]"
      ],
      "execution_count": null,
      "outputs": [
        {
          "output_type": "execute_result",
          "data": {
            "text/plain": [
              "30"
            ]
          },
          "metadata": {
            "tags": []
          },
          "execution_count": 29
        }
      ]
    },
    {
      "cell_type": "code",
      "metadata": {
        "id": "WQRDTu93oQz7",
        "colab_type": "code",
        "colab": {}
      },
      "source": [
        ""
      ],
      "execution_count": null,
      "outputs": []
    }
  ]
}